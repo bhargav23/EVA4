{
  "nbformat": 4,
  "nbformat_minor": 0,
  "metadata": {
    "kernelspec": {
      "name": "python3",
      "display_name": "Python 3"
    },
    "language_info": {
      "codemirror_mode": {
        "name": "ipython",
        "version": 3
      },
      "file_extension": ".py",
      "mimetype": "text/x-python",
      "name": "python",
      "nbconvert_exporter": "python",
      "pygments_lexer": "ipython3",
      "version": "3.6.6"
    },
    "colab": {
      "name": "EVA S15.ipynb",
      "provenance": [],
      "collapsed_sections": [],
      "include_colab_link": true
    },
    "accelerator": "GPU"
  },
  "cells": [
    {
      "cell_type": "markdown",
      "metadata": {
        "id": "view-in-github",
        "colab_type": "text"
      },
      "source": [
        "<a href=\"https://colab.research.google.com/github/bhargav23/EVA4/blob/master/S15/EVA_S15.ipynb\" target=\"_parent\"><img src=\"https://colab.research.google.com/assets/colab-badge.svg\" alt=\"Open In Colab\"/></a>"
      ]
    },
    {
      "cell_type": "code",
      "metadata": {
        "id": "e4ZTlK2_ywqA",
        "colab_type": "code",
        "outputId": "93a58d50-9daa-4961-ea58-ab8706f35a0c",
        "colab": {
          "base_uri": "https://localhost:8080/",
          "height": 122
        }
      },
      "source": [
        "from google.colab import drive\n",
        "drive.mount('/content/drive')"
      ],
      "execution_count": 1,
      "outputs": [
        {
          "output_type": "stream",
          "text": [
            "Go to this URL in a browser: https://accounts.google.com/o/oauth2/auth?client_id=947318989803-6bn6qk8qdgf4n4g3pfee6491hc0brc4i.apps.googleusercontent.com&redirect_uri=urn%3aietf%3awg%3aoauth%3a2.0%3aoob&response_type=code&scope=email%20https%3a%2f%2fwww.googleapis.com%2fauth%2fdocs.test%20https%3a%2f%2fwww.googleapis.com%2fauth%2fdrive%20https%3a%2f%2fwww.googleapis.com%2fauth%2fdrive.photos.readonly%20https%3a%2f%2fwww.googleapis.com%2fauth%2fpeopleapi.readonly\n",
            "\n",
            "Enter your authorization code:\n",
            "··········\n",
            "Mounted at /content/drive\n"
          ],
          "name": "stdout"
        }
      ]
    },
    {
      "cell_type": "code",
      "metadata": {
        "id": "IqAiMsYt2Aue",
        "colab_type": "code",
        "colab": {}
      },
      "source": [
        "import sys\n",
        "sys.path.append('/content/drive/My Drive/EVA4/S7')"
      ],
      "execution_count": 0,
      "outputs": []
    },
    {
      "cell_type": "code",
      "metadata": {
        "id": "cVPfmGLdyp8A",
        "colab_type": "code",
        "colab": {}
      },
      "source": [
        "import random\n",
        "import time\n",
        "from zipfile import ZipFile\n",
        "import os\n",
        "import numpy as np\n",
        "import cv2"
      ],
      "execution_count": 0,
      "outputs": []
    },
    {
      "cell_type": "code",
      "metadata": {
        "id": "LXRnFCs0nZYY",
        "colab_type": "code",
        "colab": {}
      },
      "source": [
        "with ZipFile('/content/drive/My Drive/EVA4/data/fgbganddepth2.zip', 'r') as zipObj:\n",
        "  zipObj.extractall()"
      ],
      "execution_count": 0,
      "outputs": []
    },
    {
      "cell_type": "code",
      "metadata": {
        "id": "STiD1nA3ufaL",
        "colab_type": "code",
        "colab": {}
      },
      "source": [
        "path = \"/content/drive/My Drive/EVA4/data/bgimages/\"\n",
        "bg = []\n",
        "for p in os.listdir(path):\n",
        "  for i in range(1000):\n",
        "    bg.append(path+p)\n",
        "bg.sort()\n"
      ],
      "execution_count": 0,
      "outputs": []
    },
    {
      "cell_type": "code",
      "metadata": {
        "id": "AEcfyV5uqOBX",
        "colab_type": "code",
        "colab": {}
      },
      "source": [
        "maskpath = \"/content/output/masks/\"\n",
        "mask = []\n",
        "for p in os.listdir(maskpath):\n",
        "  mask.append(maskpath+p)\n",
        "mask.sort()"
      ],
      "execution_count": 0,
      "outputs": []
    },
    {
      "cell_type": "code",
      "metadata": {
        "id": "jbcLQGnrwB78",
        "colab_type": "code",
        "colab": {}
      },
      "source": [
        "fgbgpath = \"/content/output/images/\"\n",
        "fgbg= []\n",
        "for p in os.listdir(fgbgpath):\n",
        "  fgbg.append(fgbgpath+p)\n",
        "fgbg.sort()"
      ],
      "execution_count": 0,
      "outputs": []
    },
    {
      "cell_type": "code",
      "metadata": {
        "id": "0UMJYpYywK_c",
        "colab_type": "code",
        "colab": {}
      },
      "source": [
        "depthpath = \"/content/output/depth/\"\n",
        "depth= []\n",
        "for p in os.listdir(depthpath):\n",
        "  depth.append(depthpath+p)\n",
        "depth.sort()"
      ],
      "execution_count": 0,
      "outputs": []
    },
    {
      "cell_type": "code",
      "metadata": {
        "id": "-h2gP0X8xWab",
        "colab_type": "code",
        "colab": {}
      },
      "source": [
        "data = list(zip(bg[:10000], fgbg[:10000], mask[:10000], depth[:10000]))\n",
        "random.shuffle(data)"
      ],
      "execution_count": 0,
      "outputs": []
    },
    {
      "cell_type": "code",
      "metadata": {
        "id": "d8o03kDU33Pr",
        "colab_type": "code",
        "colab": {}
      },
      "source": [
        "import albumentations as A\n",
        "from evaAlbumentations import AlbumentationTransforms\n",
        "\n",
        "means = (0.49139968, 0.48215841, 0.44653091)\n",
        "stdevs = (0.24703223, 0.24348513, 0.26158784)\n",
        "train_bgtr = AlbumentationTransforms(\n",
        "    [ A.Resize(128, 128),\n",
        "      A.Normalize(mean=means, std=stdevs)])\n",
        "train_fgbgtr = AlbumentationTransforms(\n",
        "    [ A.Resize(128, 128),\n",
        "      A.Normalize(mean=means, std=stdevs)])\n",
        "train_masktr = AlbumentationTransforms(\n",
        "    [ A.Resize(128, 128),\n",
        "      A.Normalize(mean=means, std=stdevs)])\n",
        "train_depthtr = AlbumentationTransforms(\n",
        "    [ A.Resize(128, 128),\n",
        "      A.Normalize(mean=means, std=stdevs)])\n",
        "\n",
        "\n",
        "test_bgtr = AlbumentationTransforms(\n",
        "    [ A.Resize(128, 128),\n",
        "      A.Normalize(mean=means, std=stdevs)])\n",
        "test_fgbgtr = AlbumentationTransforms(\n",
        "    [ A.Resize(128, 128),\n",
        "      A.Normalize(mean=means, std=stdevs)])\n",
        "test_masktr = AlbumentationTransforms(\n",
        "    [ A.Resize(128, 128),\n",
        "      A.Normalize(mean=means, std=stdevs)])\n",
        "test_depthtr = AlbumentationTransforms(\n",
        "    [ A.Resize(128, 128),\n",
        "      A.Normalize(mean=means, std=stdevs)])"
      ],
      "execution_count": 0,
      "outputs": []
    },
    {
      "cell_type": "code",
      "metadata": {
        "id": "w9vihbo-50G-",
        "colab_type": "code",
        "colab": {}
      },
      "source": [
        "import evadata \n",
        "from evadata import parrotDataset\n",
        "trainlen = int(len(data)*0.7)\n",
        "train = parrotDataset(data[:trainlen], train_bgtr,train_fgbgtr,train_masktr,train_depthtr )\n",
        "test = parrotDataset(data[trainlen:], test_bgtr,test_fgbgtr,test_masktr,test_depthtr )"
      ],
      "execution_count": 0,
      "outputs": []
    },
    {
      "cell_type": "code",
      "metadata": {
        "id": "OLsdxx2iWHk9",
        "colab_type": "code",
        "colab": {}
      },
      "source": [
        "import evadataloader\n",
        "dataloader = evadataloader.DataLoader()\n",
        "\n",
        "trainloader = dataloader.load(train)\n",
        "testloader = dataloader.load(test)"
      ],
      "execution_count": 0,
      "outputs": []
    },
    {
      "cell_type": "code",
      "metadata": {
        "id": "pb_T9aqQCVRT",
        "colab_type": "code",
        "colab": {}
      },
      "source": [
        "import evaresnet\n",
        "from evaresnet import ResNet18\n",
        "\n",
        "\n",
        "net = DepthMask()"
      ],
      "execution_count": 0,
      "outputs": []
    },
    {
      "cell_type": "code",
      "metadata": {
        "id": "2E0dQ4-tE-W_",
        "colab_type": "code",
        "colab": {}
      },
      "source": [
        "from torchsummary import summary\n",
        "import torch\n",
        "use_cuda = torch.cuda.is_available()\n",
        "device = torch.device(\"cuda\" if use_cuda else \"cpu\")\n",
        "print(device)\n",
        "model = net.to(device)\n",
        "summary(model, input_size=(3, 64, 64))"
      ],
      "execution_count": 0,
      "outputs": []
    },
    {
      "cell_type": "code",
      "metadata": {
        "id": "bn4CEP6Idaln",
        "colab_type": "code",
        "colab": {}
      },
      "source": [
        "model"
      ],
      "execution_count": 0,
      "outputs": []
    },
    {
      "cell_type": "code",
      "metadata": {
        "id": "afwi0A-dXnEp",
        "colab_type": "code",
        "colab": {}
      },
      "source": [
        "import sys\n",
        "from torch_lr_finder import LRFinder\n",
        "import torch.nn as nn\n",
        "import torch.nn.functional as F\n",
        "import torch.optim as optim\n",
        "criterion = nn.CrossEntropyLoss()\n",
        "optimizer = optim.SGD(model.parameters(), lr=1e-7, momentum=0.9, nesterov=True, weight_decay=1e-4)\n",
        "lr_finder = LRFinder(model, optimizer, criterion, device=\"cuda\")\n",
        "lr_finder.range_test(trainloader, end_lr=100, num_iter=100, step_mode=\"exp\")\n",
        "# Plot learning rate vs loss\n",
        "lr_finder.plot()\n",
        "\n",
        "# Reset graph\n",
        "lr_finder.reset()"
      ],
      "execution_count": 0,
      "outputs": []
    },
    {
      "cell_type": "code",
      "metadata": {
        "id": "3GmktPOEJcgK",
        "colab_type": "code",
        "colab": {}
      },
      "source": [
        "loss = lr_finder.history['loss']\n",
        "lr = lr_finder.history['lr']\n",
        "max_lr = lr[loss.index(min(loss))]\n",
        "max_lr"
      ],
      "execution_count": 0,
      "outputs": []
    },
    {
      "cell_type": "code",
      "metadata": {
        "id": "JKZKZP79GWjR",
        "colab_type": "code",
        "colab": {}
      },
      "source": [
        "from torch.optim.lr_scheduler import StepLR\n",
        "from torch.optim.lr_scheduler import ReduceLROnPlateau\n",
        "from evascheduler import train,test\n",
        "from torch.optim.lr_scheduler import OneCycleLR\n",
        "L1lambda = 0\n",
        "L2lambda = 0\n",
        "EPOCHS = 50\n",
        "model =  net.to(device)\n",
        "\n",
        "criterion = nn.CrossEntropyLoss()\n",
        "optimizer = optim.SGD(model.parameters(), lr=0.1, momentum=0.9, nesterov=True, weight_decay=1e-4)\n",
        "scheduler = torch.optim.lr_scheduler.OneCycleLR(optimizer,\n",
        "                 max_lr=0.03,\n",
        "                 total_steps=51,\n",
        "                 epochs=51,\n",
        "                 pct_start=0.2,\n",
        "                 cycle_momentum=False,\n",
        "                 base_momentum=0.85,\n",
        "                 max_momentum=0.95,\n",
        "                 div_factor=10.,\n",
        "                 final_div_factor=1e4,\n",
        "                 last_epoch=-1)\n",
        "\n",
        "for epoch in range(EPOCHS):\n",
        "    print(\"EPOCH:\", epoch)\n",
        "    train(model, device, trainloader, optimizer, epoch,criterion)\n",
        "    scheduler.step()\n",
        "    test(model, device, testloader)\n"
      ],
      "execution_count": 0,
      "outputs": []
    },
    {
      "cell_type": "code",
      "metadata": {
        "id": "vg2VPB230TNl",
        "colab_type": "code",
        "colab": {}
      },
      "source": [
        "from evascheduler import draw_graph\n",
        "draw_graph()\n"
      ],
      "execution_count": 0,
      "outputs": []
    },
    {
      "cell_type": "code",
      "metadata": {
        "id": "gtPFd5CiVfQT",
        "colab_type": "code",
        "colab": {}
      },
      "source": [
        "from evascheduler import get_misclassified\n",
        "misclassified = get_misclassified()"
      ],
      "execution_count": 0,
      "outputs": []
    },
    {
      "cell_type": "code",
      "metadata": {
        "id": "TTa8Saqz622D",
        "colab_type": "code",
        "colab": {}
      },
      "source": [
        "import utils\n",
        "from utils import plot_images\n",
        "plot_images(misclassified,classes,\"misclassified.png\")"
      ],
      "execution_count": 0,
      "outputs": []
    },
    {
      "cell_type": "code",
      "metadata": {
        "id": "iB5r8IswdkU6",
        "colab_type": "code",
        "colab": {}
      },
      "source": [
        "model_save_name = 'models11.pt'\n",
        "PATH = F\"/content/drive/My Drive/EVA/S7/{model_save_name}\" \n",
        "torch.save(model.state_dict(), PATH)"
      ],
      "execution_count": 0,
      "outputs": []
    },
    {
      "cell_type": "code",
      "metadata": {
        "id": "xBiqdCjRjg9r",
        "colab_type": "code",
        "colab": {}
      },
      "source": [
        "path = F\"/content/drive/My Drive/EVA/S7/{model_save_name}\"\n",
        "model.load_state_dict(torch.load(path))"
      ],
      "execution_count": 0,
      "outputs": []
    },
    {
      "cell_type": "code",
      "metadata": {
        "id": "rzuNuY5tGVCo",
        "colab_type": "code",
        "colab": {}
      },
      "source": [
        ""
      ],
      "execution_count": 0,
      "outputs": []
    }
  ]
}